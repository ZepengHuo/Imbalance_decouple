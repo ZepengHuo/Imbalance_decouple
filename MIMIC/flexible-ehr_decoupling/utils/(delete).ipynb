{
 "cells": [
  {
   "cell_type": "code",
   "execution_count": 46,
   "metadata": {},
   "outputs": [],
   "source": [
    "import logging\n",
    "import os\n",
    "import numpy as np\n",
    "import torch\n",
    "\n",
    "from sklearn.model_selection import train_test_split\n",
    "from torch.utils.data import DataLoader, Dataset\n",
    "\n",
    "from sampler import MultilabelBalancedRandomSampler\n",
    "\n",
    "def get_dataloaders(root, t_hours, n_bins, validation, task, dt=1.0, dynamic=True,\n",
    "                    shuffle=True, pin_memory=True, batch_size=128,\n",
    "                    logger=logging.getLogger(__name__)):\n",
    "    \"\"\"A generic data loader.\n",
    "\n",
    "    Parameters\n",
    "    ----------\n",
    "    root: str\n",
    "        Root directory.\n",
    "\n",
    "    t_hours: int\n",
    "\n",
    "\n",
    "    n_bins: int\n",
    "\n",
    "\n",
    "    validation: bool\n",
    "        Whether or not to return a validation DataLoader also (when training).\n",
    "        \n",
    "    task: pheno/mortality\n",
    "        what task to predict\n",
    "\n",
    "    dt: float, optional\n",
    "        Time step between intervals.\n",
    "\n",
    "    dynamic: bool, optional\n",
    "        Whether the model should predict in a dynamic fashion.\n",
    "\n",
    "    shuffle: bool, optional\n",
    "        Whether to shuffle data during training.\n",
    "\n",
    "    pin_memory: bool, optional\n",
    "        Whether to pin memory in the GPU when using CUDA.\n",
    "\n",
    "    batch_size: int, optional\n",
    "\n",
    "    logger: logging.Logger, optional\n",
    "    \"\"\"\n",
    "    pin_memory = pin_memory and torch.cuda.is_available\n",
    "\n",
    "    arrs = np.load(\n",
    "        os.path.join(root, '_dicts', f'{t_hours}_{n_bins}_arrs_new.npy'),\n",
    "        #os.path.join(root, '_dicts', f'{t_hours}_{n_bins}_arrs.npy'),\n",
    "        allow_pickle=True).item()\n",
    "    if validation:\n",
    "        if task == 'pheno':\n",
    "            X_train, X_valid, y_train, y_valid = train_test_split(\n",
    "                #arrs['X_train'], arrs['Y_train'],\n",
    "                #arrs['X'], arrs['Y'],\n",
    "                arrs['X'], arrs['pheno'],\n",
    "                #test_size=1000, stratify=arrs['Y_train'])\n",
    "                test_size=1000, stratify=arrs['Y'])\n",
    "\n",
    "            train_dataset = EHR(X_train, y_train, t_hours, dt, dynamic)\n",
    "\n",
    "            valid_dataset = EHR(X_valid, y_valid, t_hours, dt, dynamic)\n",
    "            \n",
    "        else:\n",
    "            X_train, X_valid, y_train, y_valid = train_test_split(\n",
    "                #arrs['X_train'], arrs['Y_train'],\n",
    "                arrs['X'], arrs['Y'],\n",
    "                #arrs['X'], arrs['pheno'],\n",
    "                #test_size=1000, stratify=arrs['Y_train'])\n",
    "                test_size=1000, stratify=arrs['Y'])\n",
    "\n",
    "            train_dataset = EHR(X_train, y_train, t_hours, dt, dynamic)\n",
    "\n",
    "            valid_dataset = EHR(X_valid, y_valid, t_hours, dt, dynamic)\n",
    "        \n",
    "        \n",
    "        if task != 'pheno':\n",
    "            train_dataset_pos = EHR_pos(X_train, y_train, t_hours, dt, dynamic)\n",
    "            train_dataset_neg = EHR_neg(X_train, y_train, t_hours, dt, dynamic)\n",
    "            \n",
    "            valid_dataset_pos = EHR_pos(X_valid, y_valid, t_hours, dt, dynamic)\n",
    "            valid_dataset_neg = EHR_neg(X_valid, y_valid, t_hours, dt, dynamic)\n",
    "            \n",
    "            train_dataloader_pos = DataLoader(train_dataset_pos,\n",
    "                                          batch_size=int(batch_size/2),\n",
    "                                          shuffle=shuffle,\n",
    "                                          pin_memory=pin_memory)\n",
    "            train_dataloader_neg = DataLoader(train_dataset_neg,\n",
    "                                          batch_size=int(batch_size/2),\n",
    "                                          shuffle=shuffle,\n",
    "                                          pin_memory=pin_memory)        \n",
    "            train_dataloader = DataLoader(train_dataset,\n",
    "                                          batch_size=batch_size,\n",
    "                                          shuffle=shuffle,\n",
    "                                          pin_memory=pin_memory)\n",
    "\n",
    "\n",
    "            valid_dataloader_pos = DataLoader(valid_dataset_pos,\n",
    "                                          batch_size=int(batch_size/2),\n",
    "                                          shuffle=False,\n",
    "                                          pin_memory=pin_memory)\n",
    "            valid_dataloader_neg = DataLoader(valid_dataset_neg,\n",
    "                                          batch_size=int(batch_size/2),\n",
    "                                          shuffle=False,\n",
    "                                          pin_memory=pin_memory)\n",
    "            valid_dataloader = DataLoader(valid_dataset,\n",
    "                                          batch_size=batch_size,\n",
    "                                          shuffle=False,\n",
    "                                          pin_memory=pin_memory)\n",
    "\n",
    "            return train_dataloader_pos, train_dataloader_neg, train_dataloader, \\\n",
    "        valid_dataloader_pos, valid_dataloader_neg, valid_dataloader\n",
    "        \n",
    "        else:\n",
    "            train_dataloader_rand = DataLoader(train_dataset,\n",
    "                                          batch_size=batch_size,\n",
    "                                          shuffle=shuffle,\n",
    "                                          pin_memory=pin_memory)\n",
    "\n",
    "            train_sampler = MultilabelBalancedRandomSampler(train_dataset.Y, class_choice=\"least_sampled\")\n",
    "            train_loader_bal = DataLoader(train_dataset, batch_size=batch_size, sampler=train_sampler)\n",
    "            \n",
    "            \n",
    "            valid_dataloader_rand = DataLoader(valid_dataset,\n",
    "                                          batch_size=batch_size,\n",
    "                                          shuffle=shuffle,\n",
    "                                          pin_memory=pin_memory)\n",
    "            \n",
    "            valid_sampler = MultilabelBalancedRandomSampler(valid_dataset.Y, class_choice=\"least_sampled\")\n",
    "            valid_loader_bal = DataLoader(valid_dataset, batch_size=batch_size, sampler=valid_sampler)\n",
    "            \n",
    "            return train_loader_bal, train_dataloader_rand, valid_loader_bal, valid_dataloader_rand\n",
    "\n",
    "    else:\n",
    "        test_dataset = EHR(\n",
    "            arrs['X_test'], arrs['Y_test'], t_hours, dt, dynamic)\n",
    "        test_dataloader = DataLoader(test_dataset,\n",
    "                                     batch_size=batch_size,\n",
    "                                     shuffle=False,\n",
    "                                     pin_memory=pin_memory)\n",
    "\n",
    "        return test_dataloader, None\n",
    "\n",
    "\n",
    "class EHR(Dataset):\n",
    "    \"\"\"\n",
    "    EHR Dataset.\n",
    "\n",
    "    Parameters\n",
    "    ----------\n",
    "    X: numpy.ndarray\n",
    "        Array containing patient sequences, shape (n_patients, 10000, 2)\n",
    "\n",
    "    Y: numpy.ndarray\n",
    "        Array containing patient outcomes, shape (n_patients,)\n",
    "\n",
    "    t_hours: int, optional\n",
    "\n",
    "\n",
    "    dt: float, optional\n",
    "        Time step between intervals.\n",
    "\n",
    "    dynamic: bool, optional\n",
    "        Whether the model should predict in a dynamic fashion.\n",
    "\n",
    "    logger: logging.Logger, optional\n",
    "    \"\"\"\n",
    "\n",
    "    def __init__(self, X, Y, t_hours=48, dt=1.0, dynamic=True,\n",
    "                 logger=logging.getLogger(__name__)):\n",
    "\n",
    "        self.logger = logger\n",
    "\n",
    "        self.X = torch.tensor(X)\n",
    "        if dynamic:  # shape (n_patients,) -> (n_patients, n_intervals)\n",
    "            Y = np.tile(Y[:, None], (1, int(t_hours / dt)))\n",
    "        temp = []\n",
    "        for i in Y:\n",
    "            temp.append(i.tolist())\n",
    "        Y = temp\n",
    "        self.Y = torch.tensor(Y).float()\n",
    "\n",
    "        self.len = len(self.X)\n",
    "\n",
    "    def __len__(self):\n",
    "        return self.len\n",
    "\n",
    "    def __getitem__(self, idx):\n",
    "        #return self.X[idx], self.Y[idx]\n",
    "        example = Variable(torch.tensor(self.X[index]), requires_grad=False)\n",
    "        labels = Variable(torch.tensor(self.Y[index]), requires_grad=False)\n",
    "        return {\"example\": example, \"labels\": labels}\n",
    "\n",
    "    \n",
    "class EHR_pos(Dataset):\n",
    "    \"\"\"\n",
    "    EHR Dataset.\n",
    "\n",
    "    Parameters\n",
    "    ----------\n",
    "    X: numpy.ndarray\n",
    "        Array containing patient sequences, shape (n_patients, 10000, 2)\n",
    "\n",
    "    Y: numpy.ndarray\n",
    "        Array containing patient outcomes, shape (n_patients,)\n",
    "\n",
    "    t_hours: int, optional\n",
    "\n",
    "\n",
    "    dt: float, optional\n",
    "        Time step between intervals.\n",
    "\n",
    "    dynamic: bool, optional\n",
    "        Whether the model should predict in a dynamic fashion.\n",
    "\n",
    "    logger: logging.Logger, optional\n",
    "    \"\"\"\n",
    "\n",
    "    def __init__(self, X, Y, t_hours=48, dt=1.0, dynamic=True,\n",
    "                 logger=logging.getLogger(__name__)):\n",
    "\n",
    "        self.logger = logger\n",
    "        \n",
    "        # balanced batch\n",
    "        pos_idx = np.where(Y == 1)[0]\n",
    "        \n",
    "        X_pos = torch.Tensor(X[pos_idx])\n",
    "\n",
    "        Y_pos = torch.Tensor(Y[pos_idx])\n",
    "\n",
    "        self.X_pos = torch.tensor(X_pos)\n",
    "        \n",
    "        if dynamic:  # shape (n_patients,) -> (n_patients, n_intervals)\n",
    "            Y_pos = np.tile(Y_pos[:, None], (1, int(t_hours / dt)))\n",
    "            \n",
    "        self.Y_pos = torch.tensor(Y_pos).float()\n",
    "\n",
    "        self.len = len(self.X_pos)\n",
    "\n",
    "    def __len__(self):\n",
    "        return self.len\n",
    "\n",
    "    def __getitem__(self, idx):\n",
    "        return self.X_pos[idx], self.Y_pos[idx]\n",
    "    \n",
    "    \n",
    "class EHR_neg(Dataset):\n",
    "    \"\"\"\n",
    "    EHR Dataset.\n",
    "\n",
    "    Parameters\n",
    "    ----------\n",
    "    X: numpy.ndarray\n",
    "        Array containing patient sequences, shape (n_patients, 10000, 2)\n",
    "\n",
    "    Y: numpy.ndarray\n",
    "        Array containing patient outcomes, shape (n_patients,)\n",
    "\n",
    "    t_hours: int, optional\n",
    "\n",
    "\n",
    "    dt: float, optional\n",
    "        Time step between intervals.\n",
    "\n",
    "    dynamic: bool, optional\n",
    "        Whether the model should predict in a dynamic fashion.\n",
    "\n",
    "    logger: logging.Logger, optional\n",
    "    \"\"\"\n",
    "\n",
    "    def __init__(self, X, Y, t_hours=48, dt=1.0, dynamic=True,\n",
    "                 logger=logging.getLogger(__name__)):\n",
    "\n",
    "        self.logger = logger\n",
    "        \n",
    "        # balanced batch\n",
    "        neg_idx = np.where(Y == 0)[0]\n",
    "        \n",
    "        X_neg = torch.Tensor(X[neg_idx])\n",
    "\n",
    "        Y_neg = torch.Tensor(Y[neg_idx])\n",
    "\n",
    "        self.X_neg = torch.tensor(X_neg)\n",
    "        \n",
    "        if dynamic:  # shape (n_patients,) -> (n_patients, n_intervals)\n",
    "            Y_neg = np.tile(Y_neg[:, None], (1, int(t_hours / dt)))\n",
    "            \n",
    "        self.Y_neg = torch.tensor(Y_neg).float()\n",
    "\n",
    "        self.len = len(self.X_neg)\n",
    "\n",
    "    def __len__(self):\n",
    "        return self.len\n",
    "\n",
    "    def __getitem__(self, idx):\n",
    "        return self.X_neg[idx], self.Y_neg[idx]"
   ]
  },
  {
   "cell_type": "code",
   "execution_count": null,
   "metadata": {},
   "outputs": [],
   "source": []
  },
  {
   "cell_type": "code",
   "execution_count": null,
   "metadata": {},
   "outputs": [],
   "source": []
  },
  {
   "cell_type": "code",
   "execution_count": null,
   "metadata": {},
   "outputs": [],
   "source": []
  },
  {
   "cell_type": "code",
   "execution_count": null,
   "metadata": {},
   "outputs": [],
   "source": []
  },
  {
   "cell_type": "code",
   "execution_count": null,
   "metadata": {},
   "outputs": [],
   "source": []
  },
  {
   "cell_type": "code",
   "execution_count": 22,
   "metadata": {},
   "outputs": [],
   "source": [
    "root = '../../flexible-ehr/data/root_dicts'\n",
    "t_hours = 48\n",
    "n_bins = 20\n",
    "arrs = np.load(\n",
    "        os.path.join(root, '_dicts', f'{t_hours}_{n_bins}_arrs_new.npy'),\n",
    "        #os.path.join(root, '_dicts', f'{t_hours}_{n_bins}_arrs.npy'),\n",
    "        allow_pickle=True).item()"
   ]
  },
  {
   "cell_type": "code",
   "execution_count": 24,
   "metadata": {},
   "outputs": [],
   "source": [
    "X_train, X_valid, y_train, y_valid = train_test_split(\n",
    "                arrs['X'], arrs['pheno'],\n",
    "                test_size=1000, stratify=arrs['Y'])"
   ]
  },
  {
   "cell_type": "code",
   "execution_count": 27,
   "metadata": {},
   "outputs": [
    {
     "data": {
      "text/plain": [
       "(17028, 25)"
      ]
     },
     "execution_count": 27,
     "metadata": {},
     "output_type": "execute_result"
    }
   ],
   "source": [
    "y_train.shape"
   ]
  },
  {
   "cell_type": "code",
   "execution_count": 47,
   "metadata": {},
   "outputs": [],
   "source": [
    "dt = 1.0\n",
    "dynamic = True\n",
    "\n",
    "train_dataset = EHR(X_train, y_train, t_hours, dt, dynamic)"
   ]
  },
  {
   "cell_type": "code",
   "execution_count": 48,
   "metadata": {},
   "outputs": [
    {
     "data": {
      "text/plain": [
       "tensor([[[0., 0., 0.,  ..., 0., 0., 0.]],\n",
       "\n",
       "        [[0., 0., 0.,  ..., 0., 0., 0.]],\n",
       "\n",
       "        [[0., 0., 0.,  ..., 0., 0., 0.]],\n",
       "\n",
       "        ...,\n",
       "\n",
       "        [[1., 0., 0.,  ..., 1., 1., 1.]],\n",
       "\n",
       "        [[0., 0., 0.,  ..., 0., 0., 0.]],\n",
       "\n",
       "        [[0., 0., 0.,  ..., 1., 1., 0.]]])"
      ]
     },
     "execution_count": 48,
     "metadata": {},
     "output_type": "execute_result"
    }
   ],
   "source": [
    "train_dataset.Y"
   ]
  },
  {
   "cell_type": "code",
   "execution_count": 49,
   "metadata": {},
   "outputs": [
    {
     "data": {
      "text/plain": [
       "<__main__.EHR at 0x7f6202fe05f8>"
      ]
     },
     "execution_count": 49,
     "metadata": {},
     "output_type": "execute_result"
    }
   ],
   "source": [
    "train_dataset"
   ]
  },
  {
   "cell_type": "code",
   "execution_count": 98,
   "metadata": {
    "tags": []
   },
   "outputs": [
    {
     "data": {
      "text/plain": [
       "'\\ndef main():\\n    epochs = 2\\n    train_loader, validate_loader = get_data_loaders(batch_size=512, val_size=0.2)\\n\\n    for epoch in range(epochs):\\n        print(\"================ Training phase ===============\")\\n        for batch in train_loader:\\n            examples = batch[\"example\"]\\n            labels = batch[\"labels\"]\\n            print(\"Label counts per class:\")\\n            sum_ = labels.sum(axis=0)\\n            print(sum_)\\n            print(\"Difference between min and max\")\\n            print(max(sum_) - min(sum_))\\n            print(\"\")\\n        print(\"\")\\n\\n        print(\"=============== Validation phase ==============\")\\n        for batch in validate_loader:\\n            examples = batch[\"example\"]\\n            labels = batch[\"labels\"]\\n            print(\"Label counts per class:\")\\n            sum_ = labels.sum(axis=0)\\n            print(sum_)\\n            print(\"Difference between min and max\")\\n            print(max(sum_) - min(sum_))\\n            print(\"\")\\n        print(\"\")\\n\\n\\nif __name__ == \"__main__\":\\n    main()\\n'"
      ]
     },
     "execution_count": 98,
     "metadata": {},
     "output_type": "execute_result"
    }
   ],
   "source": [
    "import torch\n",
    "import numpy as np\n",
    "\n",
    "from sampler import MultilabelBalancedRandomSampler\n",
    "from torch.utils.data.sampler import SubsetRandomSampler\n",
    "from torch.utils.data import Dataset, DataLoader\n",
    "from torch.autograd import Variable\n",
    "\n",
    "\n",
    "class EHR_pheno(Dataset):\n",
    "    def __init__(self, X, Y, n_examples, n_features, n_classes, mean_labels_per_example):\n",
    "        #self.n_examples = n_examples\n",
    "        #self.n_features = n_features\n",
    "        #self.n_classes = n_classes\n",
    "        #self.X = np.random.random([self.n_examples, self.n_features])\n",
    "\n",
    "        #class_probabilities = np.random.random([self.n_classes])\n",
    "        #class_probabilities = class_probabilities / sum(class_probabilities)\n",
    "        #class_probabilities *= mean_labels_per_example\n",
    "        #self.Y = (\n",
    "        #    np.random.random([self.n_examples, self.n_classes]) < class_probabilities\n",
    "        #).astype(int)\n",
    "        self.X = torch.tensor(X)\n",
    "        temp = []\n",
    "        for i in Y:\n",
    "            temp.append(i.tolist())\n",
    "        Y = temp\n",
    "        self.Y = torch.tensor(Y).float()\n",
    "\n",
    "        self.len = len(self.X)\n",
    "        \n",
    "    def __len__(self):\n",
    "        #return self.n_examples\n",
    "        return self.len\n",
    "\n",
    "    def __getitem__(self, index):\n",
    "        #example = Variable(torch.tensor(self.X[index]), requires_grad=False)\n",
    "        #labels = Variable(torch.tensor(self.Y[index]), requires_grad=False)\n",
    "        #return {\"example\": example, \"labels\": labels}\n",
    "        return self.X[index], self.Y[index]\n",
    "\n",
    "def get_data_loaders(batch_size, val_size):\n",
    "    dataset = RandomDataset(20000, 100, 20, 2)\n",
    "\n",
    "    # Split into training and validation\n",
    "    indices = list(range(len(dataset)))\n",
    "    np.random.shuffle(indices)\n",
    "    split = int(np.floor(val_size * len(dataset)))\n",
    "    train_idx, validate_idx = indices[split:], indices[:split]\n",
    "\n",
    "    train_sampler = MultilabelBalancedRandomSampler(\n",
    "        dataset.Y, train_idx, class_choice=\"least_sampled\"\n",
    "    )\n",
    "    validate_sampler = SubsetRandomSampler(validate_idx)\n",
    "\n",
    "    # Create data loaders\n",
    "    train_loader = DataLoader(dataset, batch_size=batch_size, sampler=train_sampler)\n",
    "    validate_loader = DataLoader(\n",
    "        dataset, batch_size=batch_size, sampler=validate_sampler,\n",
    "    )\n",
    "    return train_loader, validate_loader\n",
    "\n",
    "'''\n",
    "def main():\n",
    "    epochs = 2\n",
    "    train_loader, validate_loader = get_data_loaders(batch_size=512, val_size=0.2)\n",
    "\n",
    "    for epoch in range(epochs):\n",
    "        print(\"================ Training phase ===============\")\n",
    "        for batch in train_loader:\n",
    "            examples = batch[\"example\"]\n",
    "            labels = batch[\"labels\"]\n",
    "            print(\"Label counts per class:\")\n",
    "            sum_ = labels.sum(axis=0)\n",
    "            print(sum_)\n",
    "            print(\"Difference between min and max\")\n",
    "            print(max(sum_) - min(sum_))\n",
    "            print(\"\")\n",
    "        print(\"\")\n",
    "\n",
    "        print(\"=============== Validation phase ==============\")\n",
    "        for batch in validate_loader:\n",
    "            examples = batch[\"example\"]\n",
    "            labels = batch[\"labels\"]\n",
    "            print(\"Label counts per class:\")\n",
    "            sum_ = labels.sum(axis=0)\n",
    "            print(sum_)\n",
    "            print(\"Difference between min and max\")\n",
    "            print(max(sum_) - min(sum_))\n",
    "            print(\"\")\n",
    "        print(\"\")\n",
    "\n",
    "\n",
    "if __name__ == \"__main__\":\n",
    "    main()\n",
    "'''"
   ]
  },
  {
   "cell_type": "code",
   "execution_count": 99,
   "metadata": {},
   "outputs": [],
   "source": [
    "dataset = EHR_pheno(X_train, y_train, 20000, 100, 20, 2)"
   ]
  },
  {
   "cell_type": "code",
   "execution_count": 100,
   "metadata": {},
   "outputs": [
    {
     "data": {
      "text/plain": [
       "<__main__.EHR_pheno at 0x7f6202f869e8>"
      ]
     },
     "execution_count": 100,
     "metadata": {},
     "output_type": "execute_result"
    }
   ],
   "source": [
    "dataset"
   ]
  },
  {
   "cell_type": "raw",
   "metadata": {},
   "source": [
    "train_loader, validate_loader = get_data_loaders(batch_size=512, val_size=0.2)"
   ]
  },
  {
   "cell_type": "code",
   "execution_count": 101,
   "metadata": {},
   "outputs": [],
   "source": [
    "# Split into training and validation\n",
    "#dataset = train_dataset\n",
    "val_size = 0.2\n",
    "batch_size = 128\n",
    "\n",
    "indices = list(range(len(dataset)))\n",
    "np.random.shuffle(indices)\n",
    "split = int(np.floor(val_size * len(dataset)))\n",
    "train_idx, validate_idx = indices[split:], indices[:split]\n",
    "\n",
    "train_sampler = MultilabelBalancedRandomSampler(\n",
    "    dataset.Y, train_idx, class_choice=\"least_sampled\"\n",
    ")\n",
    "validate_sampler = SubsetRandomSampler(validate_idx)\n",
    "\n",
    "# Create data loaders\n",
    "train_loader = DataLoader(dataset, batch_size=batch_size, sampler=train_sampler,)\n",
    "validate_loader = DataLoader(\n",
    "    dataset, batch_size=batch_size, sampler=validate_sampler,\n",
    ")"
   ]
  },
  {
   "cell_type": "raw",
   "metadata": {},
   "source": [
    "for x, y in train_loader:\n",
    "    print(x, y)"
   ]
  },
  {
   "cell_type": "code",
   "execution_count": 111,
   "metadata": {},
   "outputs": [
    {
     "data": {
      "text/plain": [
       "tensor(0.7069)"
      ]
     },
     "execution_count": 111,
     "metadata": {},
     "output_type": "execute_result"
    }
   ],
   "source": [
    "from torch import nn\n",
    "\n",
    "y_pred = torch.Tensor([0.8, 0.2, 0.2, 0.4, 0.3])\n",
    "y_true = torch.Tensor([1, 0, 1, 0, 0])\n",
    "\n",
    "criterion = nn.BCEWithLogitsLoss()\n",
    "criterion(y_pred, y_true)"
   ]
  },
  {
   "cell_type": "code",
   "execution_count": 107,
   "metadata": {},
   "outputs": [
    {
     "name": "stdout",
     "output_type": "stream",
     "text": [
      "Loss: 0.861\n",
      "Loss: 0.656\n",
      "Loss: 0.512\n",
      "Loss: 0.411\n",
      "Loss: 0.339\n",
      "Loss: 0.286\n",
      "Loss: 0.246\n",
      "Loss: 0.216\n",
      "Loss: 0.191\n",
      "Loss: 0.172\n",
      "Loss: 0.156\n",
      "Loss: 0.142\n",
      "Loss: 0.131\n",
      "Loss: 0.121\n",
      "Loss: 0.112\n",
      "Loss: 0.105\n",
      "Loss: 0.098\n",
      "Loss: 0.093\n",
      "Loss: 0.087\n",
      "Loss: 0.083\n"
     ]
    }
   ],
   "source": [
    "from torch import optim\n",
    "\n",
    "model = nn.Linear(20, 5) # predict logits for 5 classes\n",
    "x = torch.randn(1, 20)\n",
    "y = torch.tensor([[1., 0., 1., 0., 0.]]) # get classA and classC as active\n",
    "\n",
    "criterion = nn.BCEWithLogitsLoss()\n",
    "optimizer = optim.SGD(model.parameters(), lr=1e-1)\n",
    "\n",
    "for epoch in range(20):\n",
    "    optimizer.zero_grad()\n",
    "    output = model(x)\n",
    "    loss = criterion(output, y)\n",
    "    loss.backward()\n",
    "    optimizer.step()\n",
    "    print('Loss: {:.3f}'.format(loss.item()))"
   ]
  },
  {
   "cell_type": "code",
   "execution_count": 108,
   "metadata": {},
   "outputs": [
    {
     "data": {
      "text/plain": [
       "tensor([[ 2.4531, -2.4313,  2.3907, -2.6001, -2.3827]],\n",
       "       grad_fn=<AddmmBackward>)"
      ]
     },
     "execution_count": 108,
     "metadata": {},
     "output_type": "execute_result"
    }
   ],
   "source": [
    "output"
   ]
  },
  {
   "cell_type": "code",
   "execution_count": 109,
   "metadata": {},
   "outputs": [
    {
     "data": {
      "text/plain": [
       "tensor([[1., 0., 1., 0., 0.]])"
      ]
     },
     "execution_count": 109,
     "metadata": {},
     "output_type": "execute_result"
    }
   ],
   "source": [
    "y"
   ]
  },
  {
   "cell_type": "code",
   "execution_count": 114,
   "metadata": {},
   "outputs": [
    {
     "data": {
      "text/plain": [
       "1"
      ]
     },
     "execution_count": 114,
     "metadata": {},
     "output_type": "execute_result"
    }
   ],
   "source": [
    "np.array([1, 2, 3], [1]).ndim"
   ]
  },
  {
   "cell_type": "code",
   "execution_count": 118,
   "metadata": {},
   "outputs": [],
   "source": [
    "a = np.zeros((2,3))"
   ]
  },
  {
   "cell_type": "code",
   "execution_count": 119,
   "metadata": {},
   "outputs": [
    {
     "data": {
      "text/plain": [
       "array([[0., 0., 0.],\n",
       "       [0., 0., 0.]])"
      ]
     },
     "execution_count": 119,
     "metadata": {},
     "output_type": "execute_result"
    }
   ],
   "source": [
    "a"
   ]
  },
  {
   "cell_type": "code",
   "execution_count": 120,
   "metadata": {},
   "outputs": [
    {
     "data": {
      "text/plain": [
       "array([0., 0.])"
      ]
     },
     "execution_count": 120,
     "metadata": {},
     "output_type": "execute_result"
    }
   ],
   "source": [
    "a[:, 2]"
   ]
  },
  {
   "cell_type": "markdown",
   "metadata": {},
   "source": [
    "## trainable cost plot"
   ]
  },
  {
   "cell_type": "code",
   "execution_count": 63,
   "metadata": {},
   "outputs": [],
   "source": [
    "import numpy as np\n",
    "import matplotlib.pyplot as plt"
   ]
  },
  {
   "cell_type": "code",
   "execution_count": 64,
   "metadata": {},
   "outputs": [],
   "source": [
    "epoch = 0\n",
    "\n",
    "with open(f'../saved/rand_loss_r_ls{epoch}.npy', 'rb') as f:\n",
    "    rand_loss_r_ls = np.load(f, allow_pickle=True)\n",
    "with open(f'../saved/bal_loss_r_ls{epoch}.npy', 'rb') as f:\n",
    "    bal_loss_r_ls = np.load(f, allow_pickle=True)"
   ]
  },
  {
   "cell_type": "code",
   "execution_count": 65,
   "metadata": {},
   "outputs": [],
   "source": [
    "rand_loss_r_cpu = []\n",
    "for rand_loss in rand_loss_r_ls:\n",
    "    rand_loss_r_cpu.append(rand_loss*2)\n",
    "    \n",
    "bal_loss_r_cpu = []\n",
    "for bal_loss in bal_loss_r_ls:\n",
    "    bal_loss_r_cpu.append(bal_loss*2)"
   ]
  },
  {
   "cell_type": "code",
   "execution_count": 79,
   "metadata": {},
   "outputs": [
    {
     "data": {
      "text/plain": [
       "[<matplotlib.lines.Line2D at 0x7ff9d59d1a58>]"
      ]
     },
     "execution_count": 79,
     "metadata": {},
     "output_type": "execute_result"
    },
    {
     "data": {
      "image/png": "[encoded data removed]",
      "text/plain": [
       "<Figure size 432x288 with 1 Axes>"
      ]
     },
     "metadata": {
      "needs_background": "light"
     },
     "output_type": "display_data"
    }
   ],
   "source": [
    "rand_loss_r_cpu = rand_loss_r_cpu[:int(len(rand_loss_r_cpu)/2)]\n",
    "bal_loss_r_cpu = bal_loss_r_cpu[:int(len(bal_loss_r_cpu)/2)]\n",
    "x_ls = [i for i in range(len(rand_loss_r_cpu))]\n",
    "\n",
    "plt.plot(x_ls, rand_loss_r_cpu, 'r^')\n",
    "plt.plot(x_ls, bal_loss_r_cpu, 'b^')"
   ]
  },
  {
   "cell_type": "code",
   "execution_count": 68,
   "metadata": {},
   "outputs": [],
   "source": [
    "rand_loss_r_new = []\n",
    "for idx, rand_loss in enumerate(rand_loss_r_cpu):\n",
    "    if idx % 4 == 0:\n",
    "        rand_loss_r_new.append(rand_loss)"
   ]
  },
  {
   "cell_type": "code",
   "execution_count": 69,
   "metadata": {},
   "outputs": [],
   "source": [
    "bal_loss_r_new = []\n",
    "for idx, bal_loss in enumerate(bal_loss_r_cpu):\n",
    "    if idx % 2 == 0:\n",
    "        bal_loss_r_new.append(bal_loss)\n",
    "        \n",
    "bal_loss_r_new = bal_loss_r_new[:len(rand_loss_r_new)]"
   ]
  },
  {
   "cell_type": "code",
   "execution_count": 108,
   "metadata": {},
   "outputs": [
    {
     "data": {
      "text/plain": [
       "<matplotlib.legend.Legend at 0x7ff9d5147278>"
      ]
     },
     "execution_count": 108,
     "metadata": {},
     "output_type": "execute_result"
    },
    {
     "data": {
      "image/png": "[encoded data removed]",
      "text/plain": [
       "<Figure size 432x288 with 1 Axes>"
      ]
     },
     "metadata": {
      "needs_background": "light"
     },
     "output_type": "display_data"
    }
   ],
   "source": [
    "x_ls = [i for i in range(len(rand_loss_r_new))]\n",
    "\n",
    "plt.plot(x_ls, rand_loss_r_new, 'rx', label='FP cost')\n",
    "plt.plot(x_ls, bal_loss_r_new, 'bx', label='FN cost')\n",
    "plt.legend()"
   ]
  },
  {
   "cell_type": "code",
   "execution_count": 106,
   "metadata": {},
   "outputs": [
    {
     "data": {
      "text/plain": [
       "<matplotlib.legend.Legend at 0x7ff9d51e2c18>"
      ]
     },
     "execution_count": 106,
     "metadata": {},
     "output_type": "execute_result"
    },
    {
     "data": {
      "image/png": "[encoded data removed]",
      "text/plain": [
       "<Figure size 432x288 with 1 Axes>"
      ]
     },
     "metadata": {
      "needs_background": "light"
     },
     "output_type": "display_data"
    }
   ],
   "source": [
    "x = ['1', '5', '10', '25', '50', '100']\n",
    "auc = [0.72, 0.78, 0.69, 0.65, 0.63, 0.60]\n",
    "auprc = [0.55, 0.57, 0.58, 0.56, 0.51, 0.48]\n",
    "yerr= np.linspace(0.05, 0.2, 10)\n",
    "plt.errorbar(x, auc, fmt='ro-', yerr=0.05, label='AUC-ROC')\n",
    "plt.errorbar(x, auprc, fmt='bo-',yerr=0.05, label='AUC-PRC')\n",
    "#plt.errorbar(x, y, yerr=0.1)\n",
    "plt.xlabel('θ values', fontsize=14)\n",
    "plt.legend(fontsize=14)"
   ]
  },
  {
   "cell_type": "code",
   "execution_count": 95,
   "metadata": {},
   "outputs": [
    {
     "data": {
      "text/plain": [
       "array([0.05      , 0.06666667, 0.08333333, 0.1       , 0.11666667,\n",
       "       0.13333333, 0.15      , 0.16666667, 0.18333333, 0.2       ])"
      ]
     },
     "execution_count": 95,
     "metadata": {},
     "output_type": "execute_result"
    }
   ],
   "source": [
    "np.linspace(0.05, 0.2, 10)"
   ]
  },
  {
   "cell_type": "code",
   "execution_count": null,
   "metadata": {},
   "outputs": [],
   "source": []
  }
 ],
 "metadata": {
  "kernelspec": {
   "display_name": "Python 3",
   "language": "python",
   "name": "python3"
  },
  "language_info": {
   "codemirror_mode": {
    "name": "ipython",
    "version": 3
   },
   "file_extension": ".py",
   "mimetype": "text/x-python",
   "name": "python",
   "nbconvert_exporter": "python",
   "pygments_lexer": "ipython3",
   "version": "3.6.9"
  }
 },
 "nbformat": 4,
 "nbformat_minor": 4
}
