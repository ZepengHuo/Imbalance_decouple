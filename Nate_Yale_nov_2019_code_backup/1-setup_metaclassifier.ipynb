{
 "cells": [
  {
   "cell_type": "code",
   "execution_count": 1,
   "metadata": {},
   "outputs": [],
   "source": [
    "setwd(\"/data/Projects/ACC_NCDR/NCDR/BJMDATA/ACTION/NCHData/multiple_imputed/\")"
   ]
  },
  {
   "cell_type": "code",
   "execution_count": 2,
   "metadata": {},
   "outputs": [
    {
     "name": "stderr",
     "output_type": "stream",
     "text": [
      "Loading required package: lattice\n",
      "Loading required package: ggplot2\n"
     ]
    }
   ],
   "source": [
    "library(caret)\n",
    "\n",
    "load(file ='/data/Projects/ACC_NCDR/NCDR/BJMDATA/ACTION/NCHData/multiple_imputed/all_imputed_folds.RData')"
   ]
  },
  {
   "cell_type": "code",
   "execution_count": 4,
   "metadata": {},
   "outputs": [],
   "source": [
    "folds.all <- list(fold.1, fold.2, fold.3, fold.4, fold.5)"
   ]
  },
  {
   "cell_type": "code",
   "execution_count": 18,
   "metadata": {},
   "outputs": [],
   "source": [
    "fold <- 5\n",
    "set.seed(fold*fold)\n",
    "model.data <- folds.all[[fold]]\n"
   ]
  },
  {
   "cell_type": "code",
   "execution_count": 19,
   "metadata": {},
   "outputs": [],
   "source": [
    "#remove outcome (here, DCStatus) and other unneeded columns from training data\n",
    "data.labels <- labels\n",
    "hospital.events <- names(model.data)[which(grepl(\"CE\", names(model.data)))]\n",
    "hospital.events <- hospital.events[-c(6,12)]\n",
    "model.data <- model.data[, which(!(colnames(model.data) %in% c(\"SubmissionPatientKey\", \"DCStatus\", hospital.events)))]\n",
    "\n",
    "#scale\n",
    "#Note- Comment out the following line to produce raw data.\n",
    "#      Run it to produce scaled (normalized?) data.\n",
    "model.data <- as.data.frame(scale(model.data))\n",
    "ID.vector <- c(1:dim(model.data)[1])"
   ]
  },
  {
   "cell_type": "code",
   "execution_count": 20,
   "metadata": {},
   "outputs": [],
   "source": [
    "#partition data into 40:40:20 via 2 splits, this one for 40:60\n",
    "Split1 <- createDataPartition(y = data.labels, p = 0.4, list = FALSE)\n",
    "trainA <- model.data[Split1,]\n",
    "labelsA <- data.labels[Split1]\n",
    "trainA$DCStatus <- labelsA\n",
    "trainA$IDX <- ID.vector[Split1]\n",
    "\n",
    "#this one for 60 into 40:20\n",
    "remainder.df <- model.data[-Split1,]\n",
    "remainder.labels <- data.labels[-Split1]\n",
    "remainder.ID <- ID.vector[-Split1]\n",
    "\n",
    "Split2 <- createDataPartition(y = remainder.labels, p = (2/3), list = FALSE)\n",
    "trainB <- remainder.df[Split2,]\n",
    "labelsB <- remainder.labels[Split2]\n",
    "trainB$DCStatus <- labelsB\n",
    "trainB$IDX <- remainder.ID[Split2]\n",
    "\n",
    "trainC <- remainder.df[-Split2,]\n",
    "labelsC <- remainder.labels[-Split2]\n",
    "trainC$DCStatus <- labelsC\n",
    "trainC$IDX <- remainder.ID[-Split2]"
   ]
  },
  {
   "cell_type": "code",
   "execution_count": 21,
   "metadata": {},
   "outputs": [],
   "source": [
    "write.csv(trainA, file = sprintf('fold_%s/trainA_imp.csv', fold), row.names = FALSE)\n",
    "write.csv(trainB, file = sprintf('fold_%s/trainB_imp.csv', fold), row.names = FALSE)\n",
    "write.csv(trainC, file = sprintf('fold_%s/trainC_imp.csv', fold), row.names = FALSE)"
   ]
  },
  {
   "cell_type": "code",
   "execution_count": null,
   "metadata": {},
   "outputs": [],
   "source": [
    "#model.data$IDX <- ID.vector\n",
    "\n",
    "#model.data$DCStatus <- data.labels\n",
    "\n",
    "#write.csv(model.data, file = 'all_no_imp.csv', row.names = FALSE)"
   ]
  },
  {
   "cell_type": "code",
   "execution_count": null,
   "metadata": {},
   "outputs": [],
   "source": []
  }
 ],
 "metadata": {
  "kernelspec": {
   "display_name": "R",
   "language": "R",
   "name": "ir"
  },
  "language_info": {
   "codemirror_mode": "r",
   "file_extension": ".r",
   "mimetype": "text/x-r-source",
   "name": "R",
   "pygments_lexer": "r",
   "version": "3.6.0"
  }
 },
 "nbformat": 4,
 "nbformat_minor": 4
}
