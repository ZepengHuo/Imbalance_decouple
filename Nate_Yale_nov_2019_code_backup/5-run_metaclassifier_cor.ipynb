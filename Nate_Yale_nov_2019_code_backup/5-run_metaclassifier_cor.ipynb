{
 "cells": [
  {
   "cell_type": "markdown",
   "metadata": {},
   "source": [
    "# 5a- Run Metaclassifier\n",
    "This code loads predictions from GLM, XGB, and NN on both sets B and C.  It uses the McNamara variable set.\n",
    "\n",
    "It uses the predictions from set B as train data, and uses the predicitons from set C as test data.\n",
    "\n",
    "It then uses this data in two Metaclassifiers- one using XGB and the other using LR.  Although LR is trained on this data, there is currently no output generated from that classifier.\n",
    "\n",
    "Finally this model outputs the raw meta predictions on the test set (Set C) and saves that along with the other model's estimates on C as the file `trainCpreds_fig_mcnamara.Rdata` ."
   ]
  },
  {
   "cell_type": "code",
   "execution_count": 1,
   "metadata": {
    "collapsed": true,
    "jupyter": {
     "outputs_hidden": true
    }
   },
   "outputs": [
    {
     "name": "stderr",
     "output_type": "stream",
     "text": [
      "Type 'citation(\"pROC\")' for a citation.\n",
      "\n",
      "Attaching package: ‘pROC’\n",
      "\n",
      "The following objects are masked from ‘package:stats’:\n",
      "\n",
      "    cov, smooth, var\n",
      "\n",
      "Loading required package: foreach\n",
      "Loading required package: iterators\n",
      "Loading required package: parallel\n",
      "Loading required package: lattice\n",
      "Loading required package: ggplot2\n",
      "Loading required package: Matrix\n",
      "Loaded glmnet 2.0-18\n",
      "\n",
      "\n",
      "Attaching package: ‘glmnet’\n",
      "\n",
      "The following object is masked from ‘package:pROC’:\n",
      "\n",
      "    auc\n",
      "\n"
     ]
    }
   ],
   "source": [
    "setwd(\"/data/Projects/ACC_NCDR/NCDR/BJMDATA/ACTION/NCHData/\")\n",
    "source(file = \"/data/Projects/ACC_NCDR/NCDR/BJMDATA/ACTION/CODE/xgboostWrapper.R\")\n",
    "source(file = \"/data/Projects/ACC_NCDR/NCDR/BJMDATA/ACTION/CODE/fMeasure.R\")\n",
    "source(file = \"/data/Projects/ACC_NCDR/NCDR/BJMDATA/ACTION/CODE/calcDeciles.R\")\n",
    "\n",
    "#library(pROC)\n",
    "library(PRROC)\n",
    "library(caret)\n",
    "library(xgboost)\n",
    "library(glmnet)"
   ]
  },
  {
   "cell_type": "code",
   "execution_count": 2,
   "metadata": {},
   "outputs": [],
   "source": [
    "folds.all <- list(1, 2, 3, 4, 5)\n",
    "modes <- list('mcnamara', 'expanded')"
   ]
  },
  {
   "cell_type": "code",
   "execution_count": 4,
   "metadata": {},
   "outputs": [
    {
     "name": "stdout",
     "output_type": "stream",
     "text": [
      "Loading data for mcnamara Model Fold 1\n",
      "XGB mcnamara Meta ROC, Fold 1\n",
      "\n",
      "  ROC curve\n",
      "\n",
      "    Area under curve:\n",
      "     0.8890118 \n",
      "\n",
      "    Curve for scores from  0.0002747152  to  0.9732066 \n",
      "    ( can be plotted with plot(x) )\n",
      "\n"
     ]
    },
    {
     "name": "stderr",
     "output_type": "stream",
     "text": [
      "Warning message:\n",
      "“executing %dopar% sequentially: no parallel backend registered”"
     ]
    },
    {
     "name": "stdout",
     "output_type": "stream",
     "text": [
      "   Feature       Gain     Cover Frequency\n",
      "1:     xgb 0.64522906 0.4863008 0.4142661\n",
      "2:      nn 0.33548335 0.3008832 0.3182442\n",
      "3:     glm 0.01928759 0.2128160 0.2674897\n",
      "Loading data for expanded Model Fold 1\n",
      "XGB expanded Meta ROC, Fold 1\n",
      "\n",
      "  ROC curve\n",
      "\n",
      "    Area under curve:\n",
      "     0.9008187 \n",
      "\n",
      "    Curve for scores from  0.0001691389  to  0.998134 \n",
      "    ( can be plotted with plot(x) )\n",
      "\n",
      "   Feature       Gain     Cover Frequency\n",
      "1:     xgb 0.61874392 0.4450335 0.3561828\n",
      "2:      nn 0.36277003 0.3386691 0.3185484\n",
      "3:     glm 0.01848605 0.2162974 0.3252688\n",
      "Loading data for mcnamara Model Fold 2\n",
      "XGB mcnamara Meta ROC, Fold 2\n",
      "\n",
      "  ROC curve\n",
      "\n",
      "    Area under curve:\n",
      "     0.8865455 \n",
      "\n",
      "    Curve for scores from  0.0001121783  to  0.9527357 \n",
      "    ( can be plotted with plot(x) )\n",
      "\n",
      "   Feature        Gain     Cover Frequency\n",
      "1:     xgb 0.501831772 0.3903399 0.3417015\n",
      "2:      nn 0.494165647 0.4580408 0.4351464\n",
      "3:     glm 0.004002581 0.1516194 0.2231520\n",
      "Loading data for expanded Model Fold 2\n",
      "XGB expanded Meta ROC, Fold 2\n",
      "\n",
      "  ROC curve\n",
      "\n",
      "    Area under curve:\n",
      "     0.8999883 \n",
      "\n",
      "    Curve for scores from  7.978021e-05  to  0.9886526 \n",
      "    ( can be plotted with plot(x) )\n",
      "\n",
      "   Feature       Gain     Cover Frequency\n",
      "1:     xgb 0.74182589 0.4438858 0.3428571\n",
      "2:      nn 0.24355446 0.3633219 0.3741497\n",
      "3:     glm 0.01461965 0.1927923 0.2829932\n",
      "Loading data for mcnamara Model Fold 3\n",
      "XGB mcnamara Meta ROC, Fold 3\n",
      "\n",
      "  ROC curve\n",
      "\n",
      "    Area under curve:\n",
      "     0.8886091 \n",
      "\n",
      "    Curve for scores from  0.0001380055  to  0.9647747 \n",
      "    ( can be plotted with plot(x) )\n",
      "\n",
      "   Feature        Gain     Cover Frequency\n",
      "1:     xgb 0.588191576 0.4984519 0.4126547\n",
      "2:      nn 0.401938122 0.3656761 0.3796424\n",
      "3:     glm 0.009870302 0.1358720 0.2077029\n",
      "Loading data for expanded Model Fold 3\n",
      "XGB expanded Meta ROC, Fold 3\n",
      "\n",
      "  ROC curve\n",
      "\n",
      "    Area under curve:\n",
      "     0.9001038 \n",
      "\n",
      "    Curve for scores from  0.0002219075  to  0.9873864 \n",
      "    ( can be plotted with plot(x) )\n",
      "\n",
      "   Feature       Gain     Cover Frequency\n",
      "1:     xgb 0.67359508 0.5173584 0.4242838\n",
      "2:      nn 0.31322830 0.2819844 0.2864939\n",
      "3:     glm 0.01317662 0.2006572 0.2892224\n",
      "Loading data for mcnamara Model Fold 4\n",
      "XGB mcnamara Meta ROC, Fold 4\n",
      "\n",
      "  ROC curve\n",
      "\n",
      "    Area under curve:\n",
      "     0.8853219 \n",
      "\n",
      "    Curve for scores from  0.0001284551  to  0.9554217 \n",
      "    ( can be plotted with plot(x) )\n",
      "\n",
      "   Feature        Gain     Cover Frequency\n",
      "1:      nn 0.505858721 0.4021345 0.3731139\n",
      "2:     xgb 0.486914668 0.3863476 0.3429355\n",
      "3:     glm 0.007226611 0.2115179 0.2839506\n",
      "Loading data for expanded Model Fold 4\n",
      "XGB expanded Meta ROC, Fold 4\n",
      "\n",
      "  ROC curve\n",
      "\n",
      "    Area under curve:\n",
      "     0.8983708 \n",
      "\n",
      "    Curve for scores from  7.049883e-05  to  0.9964336 \n",
      "    ( can be plotted with plot(x) )\n",
      "\n",
      "   Feature       Gain     Cover Frequency\n",
      "1:     xgb 0.69958815 0.5697279 0.4522822\n",
      "2:      nn 0.28485371 0.2645629 0.3139696\n",
      "3:     glm 0.01555814 0.1657091 0.2337483\n",
      "Loading data for mcnamara Model Fold 5\n",
      "XGB mcnamara Meta ROC, Fold 5\n",
      "\n",
      "  ROC curve\n",
      "\n",
      "    Area under curve:\n",
      "     0.8896394 \n",
      "\n",
      "    Curve for scores from  0.0002447886  to  0.9400085 \n",
      "    ( can be plotted with plot(x) )\n",
      "\n",
      "   Feature       Gain     Cover Frequency\n",
      "1:     xgb 0.64160795 0.4502204 0.3438356\n",
      "2:      nn 0.34446499 0.3558385 0.3616438\n",
      "3:     glm 0.01392706 0.1939411 0.2945205\n",
      "Loading data for expanded Model Fold 5\n",
      "XGB expanded Meta ROC, Fold 5\n",
      "\n",
      "  ROC curve\n",
      "\n",
      "    Area under curve:\n",
      "     0.9017131 \n",
      "\n",
      "    Curve for scores from  0.0002178325  to  0.9956388 \n",
      "    ( can be plotted with plot(x) )\n",
      "\n",
      "   Feature       Gain     Cover Frequency\n",
      "1:     xgb 0.70878864 0.5163099 0.3958333\n",
      "2:      nn 0.25179051 0.2574097 0.2902778\n",
      "3:     glm 0.03942085 0.2262805 0.3138889\n"
     ]
    }
   ],
   "source": [
    "for (fold in folds.all){\n",
    "    for (mode in modes){\n",
    "        data_dir <- paste0(\"/data/Projects/ACC_NCDR/NCDR/BJMDATA/ACTION/NCHData/multiple_imputed/fold_\", fold)\n",
    "        cat(paste('Loading data for ', mode,' Model Fold ', fold, '\\n', sep=''))\n",
    "        \n",
    "        glm_predsB.df <- read.csv(file = paste0(data_dir, \"/glm_preds_trainB_\", mode, \".csv\"), header = TRUE)\n",
    "        xgb_predsB.df <- read.csv(file = paste0(data_dir, \"/xgb_preds_trainB_\", mode, \".csv\"), header = TRUE)\n",
    "        nn_predsB.df <- read.csv(file =  paste0(data_dir,  \"/nn_preds_trainB_\", mode, \".csv\"), header = TRUE)\n",
    "        \n",
    "        glm_predsC.df <- read.csv(file = paste0(data_dir, \"/glm_preds_trainC_\", mode, \".csv\"), header = TRUE)\n",
    "        xgb_predsC.df <- read.csv(file = paste0(data_dir, \"/xgb_preds_trainC_\", mode, \".csv\"), header = TRUE)\n",
    "         nn_predsC.df <- read.csv(file =  paste0(data_dir, \"/nn_preds_trainC_\", mode, \".csv\"), header = TRUE)\n",
    "        \n",
    "        train.data <- data.frame(glm = glm_predsB.df$glm, xgb = xgb_predsB.df$xgb, nn = nn_predsB.df$NN)\n",
    "        train.labels <- glm_predsB.df$DCStatus\n",
    "        \n",
    "        test.data <- data.frame(glm = glm_predsC.df$glm, xgb = xgb_predsC.df$xgb, nn = nn_predsC.df$NN)\n",
    "        test.labels <- glm_predsC.df$DCStatus\n",
    "        \n",
    "        cat(paste('XGB ', mode,' Meta ROC, Fold ', fold, '\\n', sep=''))\n",
    "        #xgb meta\n",
    "        xgb.model <- xgboost(data.matrix(train.data), as.numeric(train.labels), verbose=0, nrounds=250, \n",
    "                             eta=0.1, max.depth=2, nthread=64, objective='binary:logistic',\n",
    "                             save_period = NULL, save_name = NULL)\n",
    "        xgb.resp <- predict(xgb.model, data.matrix(test.data))\n",
    "        xgb.roc <- roc.curve(scores.class0 = xgb.resp, weights.class0 = test.labels, curve = T)\n",
    "        print(xgb.roc)\n",
    "        xgb.vars <- xgb.importance(feature_names=colnames(test.data), model=xgb.model)\n",
    "        xgb.f <- allROC_par(as.numeric(xgb.resp), as.numeric(test.labels))[[1]]\n",
    "        \n",
    "        preds.df <- test.data\n",
    "        preds.df$DCStatus <- test.labels\n",
    "        preds.df$IDX <- glm_predsC.df$IDX\n",
    "        preds.df$meta <- xgb.resp\n",
    "        save(preds.df, file = paste0(data_dir, '/trainCpreds_fig_', mode, '.Rdata'))\n",
    "        \n",
    "        print(xgb.vars)\n",
    "        \n",
    "        write.csv(xgb.vars,\n",
    "                  file = paste0(data_dir, '/importance_meta_', mode, '.csv'),\n",
    "                  row.names = FALSE)\n",
    "\n",
    "    }\n",
    "}"
   ]
  },
  {
   "cell_type": "raw",
   "metadata": {},
   "source": [
    "glm_predsB.df <- read.csv(file = \"/data/Projects/ACC_NCDR/NCDR/BJMDATA/ACTION/NCHData/glm_preds_trainB_mcnamara.csv\", header = TRUE)\n",
    "xgb_predsB.df <- read.csv(file = \"/data/Projects/ACC_NCDR/NCDR/BJMDATA/ACTION/NCHData/xgb_preds_trainB_mcnamara.csv\", header = TRUE)\n",
    "nn_predsB.df <- read.csv(file =  \"/data/Projects/ACC_NCDR/NCDR/BJMDATA/ACTION/NCHData/nn_preds_trainB_mcnamara.csv\", header = TRUE)\n",
    "#knn_predsB.df <- read.csv(file = \"/data/Projects/ACC_NCDR/NCDR/BJMDATA/ACTION/JHRData/knn_preds_trainB_cor.csv\", header = TRUE)\n",
    "\n",
    "\n",
    "glm_predsC.df <- read.csv(file = \"/data/Projects/ACC_NCDR/NCDR/BJMDATA/ACTION/NCHData/glm_preds_trainC_mcnamara.csv\", header = TRUE)\n",
    "xgb_predsC.df <- read.csv(file = \"/data/Projects/ACC_NCDR/NCDR/BJMDATA/ACTION/NCHData/xgb_preds_trainC_mcnamara.csv\", header = TRUE)\n",
    "nn_predsC.df <- read.csv(file =  \"/data/Projects/ACC_NCDR/NCDR/BJMDATA/ACTION/NCHData/nn_preds_trainC_mcnamara.csv\", header = TRUE)\n",
    "#knn_predsC.df <- read.csv(file = \"/data/Projects/ACC_NCDR/NCDR/BJMDATA/ACTION/JHRData/knn_preds_trainC_cor.csv\", header = TRUE)"
   ]
  },
  {
   "cell_type": "raw",
   "metadata": {
    "jupyter": {
     "source_hidden": true
    }
   },
   "source": [
    "train.data <- data.frame(glm = glm_predsB.df$glm, xgb = xgb_predsB.df$xgb, nn = nn_predsB.df$NN) #, knn = knn_predsB.df$Knn)\n",
    "train.labels <- glm_predsB.df$DCStatus\n",
    "\n",
    "test.data <- data.frame(glm = glm_predsC.df$glm, xgb = xgb_predsC.df$xgb, nn = nn_predsC.df$NN) #, knn = knn_predsC.df$Knn)\n",
    "test.labels <- glm_predsC.df$DCStatus"
   ]
  },
  {
   "cell_type": "raw",
   "metadata": {},
   "source": [
    "#xgb meta\n",
    "xgb.model <- xgboost(data.matrix(train.data), as.numeric(train.labels), verbose=0, nrounds=250, \n",
    "                     eta=0.1, max.depth=2, nthread=64, objective='binary:logistic',\n",
    "                     save_period = NULL, save_name = NULL)\n",
    "xgb.resp <- predict(xgb.model, data.matrix(test.data))\n",
    "xgb.roc <- roc.curve(scores.class0 = xgb.resp, weights.class0 = test.labels, curve = T)\n",
    "print(xgb.roc)\n",
    "xgb.vars <- xgb.importance(feature_names=colnames(test.data), model=xgb.model)\n",
    "xgb.f <- allROC_par(as.numeric(xgb.resp), as.numeric(test.labels))[[1]]"
   ]
  },
  {
   "cell_type": "raw",
   "metadata": {},
   "source": [
    "#logistic meta\n",
    "lr.training <- data.frame(glm = glm_predsB.df$glm, xgb = xgb_predsB.df$xgb, nn = nn_predsB.df$NN, DCStatus = glm_predsB.df$DCStatus) #knn = knn_predsC.df$Knn, \n",
    "\n",
    "lr.model <- glm(DCStatus~. , data=lr.training, family = \"binomial\")\n",
    "lr.resp <- predict(lr.model, test.data)\n",
    "lr.roc <- roc.curve(scores.class0 = lr.resp, weights.class0 = test.labels, curve = T)\n",
    "lr.f <- allROC_par(as.numeric(lr.resp), as.numeric(test.labels))"
   ]
  },
  {
   "cell_type": "raw",
   "metadata": {},
   "source": [
    "preds.df <- test.data\n",
    "preds.df$DCStatus <- test.labels\n",
    "preds.df$IDX <- glm_predsC.df$IDX\n",
    "preds.df$meta <- xgb.resp\n",
    "save(preds.df, file = 'trainCpreds_fig_mcnamara.Rdata')"
   ]
  },
  {
   "cell_type": "raw",
   "metadata": {},
   "source": [
    "xgb.vars"
   ]
  },
  {
   "cell_type": "raw",
   "metadata": {},
   "source": [
    "write.csv(xgb.vars, file = \"/data/Projects/ACC_NCDR/NCDR/BJMDATA/ACTION/NCHData/importance_meta_mcnamara.csv\", row.names = FALSE)"
   ]
  },
  {
   "cell_type": "code",
   "execution_count": null,
   "metadata": {},
   "outputs": [],
   "source": []
  }
 ],
 "metadata": {
  "kernelspec": {
   "display_name": "R",
   "language": "R",
   "name": "ir"
  },
  "language_info": {
   "codemirror_mode": "r",
   "file_extension": ".r",
   "mimetype": "text/x-r-source",
   "name": "R",
   "pygments_lexer": "r",
   "version": "3.6.0"
  }
 },
 "nbformat": 4,
 "nbformat_minor": 4
}
