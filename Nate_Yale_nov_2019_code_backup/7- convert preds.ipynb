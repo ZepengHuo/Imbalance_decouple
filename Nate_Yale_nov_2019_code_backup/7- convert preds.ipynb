{
 "cells": [
  {
   "cell_type": "markdown",
   "metadata": {},
   "source": [
    "# 7 Convert\n",
    "This file loads the Rdata from 5 and saves these as csvs."
   ]
  },
  {
   "cell_type": "code",
   "execution_count": 1,
   "metadata": {},
   "outputs": [],
   "source": [
    "folds.all <- list(1, 2, 3, 4, 5)\n",
    "modes <- list('mcnamara', 'expanded')"
   ]
  },
  {
   "cell_type": "code",
   "execution_count": 3,
   "metadata": {},
   "outputs": [
    {
     "name": "stdout",
     "output_type": "stream",
     "text": [
      "Loading data for mcnamara Model Fold 1\n",
      "Loading data for expanded Model Fold 1\n",
      "Loading data for mcnamara Model Fold 2\n",
      "Loading data for expanded Model Fold 2\n",
      "Loading data for mcnamara Model Fold 3\n",
      "Loading data for expanded Model Fold 3\n",
      "Loading data for mcnamara Model Fold 4\n",
      "Loading data for expanded Model Fold 4\n",
      "Loading data for mcnamara Model Fold 5\n",
      "Loading data for expanded Model Fold 5\n"
     ]
    }
   ],
   "source": [
    "for (fold in folds.all){\n",
    "    for (mode in modes){\n",
    "        data_dir <- paste0(\"/data/Projects/ACC_NCDR/NCDR/BJMDATA/ACTION/NCHData/multiple_imputed/fold_\", fold)\n",
    "        cat(paste('Loading data for ', mode,' Model Fold ', fold, '\\n', sep=''))\n",
    "        load(file=paste0(data_dir, '/trainCpreds_fig_', mode, '.Rdata'))\n",
    "        \n",
    "        write.csv(preds.df,\n",
    "                  file = paste0(data_dir, mode, '_vars_pred.csv'),\n",
    "                  row.names = FALSE)\n",
    "}}"
   ]
  },
  {
   "cell_type": "code",
   "execution_count": null,
   "metadata": {},
   "outputs": [],
   "source": []
  }
 ],
 "metadata": {
  "kernelspec": {
   "display_name": "R",
   "language": "R",
   "name": "ir"
  },
  "language_info": {
   "codemirror_mode": "r",
   "file_extension": ".r",
   "mimetype": "text/x-r-source",
   "name": "R",
   "pygments_lexer": "r",
   "version": "3.6.0"
  }
 },
 "nbformat": 4,
 "nbformat_minor": 4
}
