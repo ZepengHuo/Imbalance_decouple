{
 "cells": [
  {
   "cell_type": "code",
   "execution_count": 2,
   "metadata": {},
   "outputs": [],
   "source": [
    "import numpy as np\n",
    "import pandas as pd\n",
    "\n",
    "from sklearn.metrics import mean_squared_error"
   ]
  },
  {
   "cell_type": "code",
   "execution_count": 4,
   "metadata": {},
   "outputs": [],
   "source": [
    "folds = [f'/data/Projects/ACC_NCDR/NCDR/BJMDATA/ACTION/NCHData/multiple_imputed/fold_{fold}' for fold in range(1,6)]\n",
    "modes = ['mcnamara', 'expanded']"
   ]
  },
  {
   "cell_type": "code",
   "execution_count": 9,
   "metadata": {},
   "outputs": [
    {
     "data": {
      "text/plain": [
       "'/data/Projects/ACC_NCDR/NCDR/BJMDATA/ACTION/NCHData/multiple_imputed/fold_1/fold_1mcnamara_vars_pred.csv'"
      ]
     },
     "execution_count": 9,
     "metadata": {},
     "output_type": "execute_result"
    }
   ],
   "source": [
    "f'{fold}/fold_{fold[-1]}{mode}_vars_pred.csv'"
   ]
  },
  {
   "cell_type": "code",
   "execution_count": 47,
   "metadata": {},
   "outputs": [
    {
     "name": "stdout",
     "output_type": "stream",
     "text": [
      "Starting mcnamara models\n",
      "Loading data for mcnamara dataset fold /data/Projects/ACC_NCDR/NCDR/BJMDATA/ACTION/NCHData/multiple_imputed/fold_1.\n",
      "Loading data for mcnamara dataset fold /data/Projects/ACC_NCDR/NCDR/BJMDATA/ACTION/NCHData/multiple_imputed/fold_2.\n",
      "Loading data for mcnamara dataset fold /data/Projects/ACC_NCDR/NCDR/BJMDATA/ACTION/NCHData/multiple_imputed/fold_3.\n",
      "Loading data for mcnamara dataset fold /data/Projects/ACC_NCDR/NCDR/BJMDATA/ACTION/NCHData/multiple_imputed/fold_4.\n",
      "Loading data for mcnamara dataset fold /data/Projects/ACC_NCDR/NCDR/BJMDATA/ACTION/NCHData/multiple_imputed/fold_5.\n",
      "Starting expanded models\n",
      "Loading data for expanded dataset fold /data/Projects/ACC_NCDR/NCDR/BJMDATA/ACTION/NCHData/multiple_imputed/fold_1.\n",
      "Loading data for expanded dataset fold /data/Projects/ACC_NCDR/NCDR/BJMDATA/ACTION/NCHData/multiple_imputed/fold_2.\n",
      "Loading data for expanded dataset fold /data/Projects/ACC_NCDR/NCDR/BJMDATA/ACTION/NCHData/multiple_imputed/fold_3.\n",
      "Loading data for expanded dataset fold /data/Projects/ACC_NCDR/NCDR/BJMDATA/ACTION/NCHData/multiple_imputed/fold_4.\n",
      "Loading data for expanded dataset fold /data/Projects/ACC_NCDR/NCDR/BJMDATA/ACTION/NCHData/multiple_imputed/fold_5.\n"
     ]
    }
   ],
   "source": [
    "mse = []\n",
    "for mode in modes:\n",
    "    print(f'Starting {mode} models')\n",
    "    row_errors = [mode]\n",
    "    for fold in folds:\n",
    "        print(f'Loading data for {mode} dataset fold {fold}.')\n",
    "        preds = pd.read_csv(f'{fold}/fold_{fold[-1]}{mode}_vars_pred.csv')\n",
    "        glm_e = mean_squared_error(preds.glm, preds.DCStatus)\n",
    "        xgb_e = mean_squared_error(preds.xgb, preds.DCStatus)\n",
    "        nn_e  = mean_squared_error(preds.nn, preds.DCStatus)\n",
    "        meta_e= mean_squared_error(preds.meta, preds.DCStatus)\n",
    "        row_errors.append([int(fold[-1]), glm_e, xgb_e, nn_e, meta_e])\n",
    "    mse.append(row_errors)"
   ]
  },
  {
   "cell_type": "code",
   "execution_count": 52,
   "metadata": {},
   "outputs": [
    {
     "data": {
      "text/html": [
       "<div>\n",
       "<style scoped>\n",
       "    .dataframe tbody tr th:only-of-type {\n",
       "        vertical-align: middle;\n",
       "    }\n",
       "\n",
       "    .dataframe tbody tr th {\n",
       "        vertical-align: top;\n",
       "    }\n",
       "\n",
       "    .dataframe thead th {\n",
       "        text-align: right;\n",
       "    }\n",
       "</style>\n",
       "<table border=\"1\" class=\"dataframe\">\n",
       "  <thead>\n",
       "    <tr style=\"text-align: right;\">\n",
       "      <th></th>\n",
       "      <th>fold</th>\n",
       "      <th>glm</th>\n",
       "      <th>xgb</th>\n",
       "      <th>nn</th>\n",
       "      <th>meta</th>\n",
       "    </tr>\n",
       "  </thead>\n",
       "  <tbody>\n",
       "    <tr>\n",
       "      <th>0</th>\n",
       "      <td>1</td>\n",
       "      <td>0.033552</td>\n",
       "      <td>0.032595</td>\n",
       "      <td>0.032712</td>\n",
       "      <td>0.032412</td>\n",
       "    </tr>\n",
       "    <tr>\n",
       "      <th>1</th>\n",
       "      <td>2</td>\n",
       "      <td>0.033750</td>\n",
       "      <td>0.032924</td>\n",
       "      <td>0.032958</td>\n",
       "      <td>0.032672</td>\n",
       "    </tr>\n",
       "    <tr>\n",
       "      <th>2</th>\n",
       "      <td>3</td>\n",
       "      <td>0.034056</td>\n",
       "      <td>0.033254</td>\n",
       "      <td>0.033455</td>\n",
       "      <td>0.033039</td>\n",
       "    </tr>\n",
       "    <tr>\n",
       "      <th>3</th>\n",
       "      <td>4</td>\n",
       "      <td>0.034030</td>\n",
       "      <td>0.033279</td>\n",
       "      <td>0.033207</td>\n",
       "      <td>0.033008</td>\n",
       "    </tr>\n",
       "    <tr>\n",
       "      <th>4</th>\n",
       "      <td>5</td>\n",
       "      <td>0.033763</td>\n",
       "      <td>0.032748</td>\n",
       "      <td>0.033068</td>\n",
       "      <td>0.032540</td>\n",
       "    </tr>\n",
       "  </tbody>\n",
       "</table>\n",
       "</div>"
      ],
      "text/plain": [
       "   fold       glm       xgb        nn      meta\n",
       "0     1  0.033552  0.032595  0.032712  0.032412\n",
       "1     2  0.033750  0.032924  0.032958  0.032672\n",
       "2     3  0.034056  0.033254  0.033455  0.033039\n",
       "3     4  0.034030  0.033279  0.033207  0.033008\n",
       "4     5  0.033763  0.032748  0.033068  0.032540"
      ]
     },
     "execution_count": 52,
     "metadata": {},
     "output_type": "execute_result"
    }
   ],
   "source": [
    "pd.DataFrame(mse[0][1:], columns=['fold','glm', 'xgb', 'nn', 'meta'])"
   ]
  },
  {
   "cell_type": "code",
   "execution_count": 50,
   "metadata": {},
   "outputs": [
    {
     "data": {
      "text/html": [
       "<div>\n",
       "<style scoped>\n",
       "    .dataframe tbody tr th:only-of-type {\n",
       "        vertical-align: middle;\n",
       "    }\n",
       "\n",
       "    .dataframe tbody tr th {\n",
       "        vertical-align: top;\n",
       "    }\n",
       "\n",
       "    .dataframe thead th {\n",
       "        text-align: right;\n",
       "    }\n",
       "</style>\n",
       "<table border=\"1\" class=\"dataframe\">\n",
       "  <thead>\n",
       "    <tr style=\"text-align: right;\">\n",
       "      <th></th>\n",
       "      <th>fold</th>\n",
       "      <th>glm</th>\n",
       "      <th>xgb</th>\n",
       "      <th>nn</th>\n",
       "      <th>meta</th>\n",
       "    </tr>\n",
       "  </thead>\n",
       "  <tbody>\n",
       "    <tr>\n",
       "      <th>0</th>\n",
       "      <td>1</td>\n",
       "      <td>0.032057</td>\n",
       "      <td>0.030887</td>\n",
       "      <td>0.031306</td>\n",
       "      <td>0.030697</td>\n",
       "    </tr>\n",
       "    <tr>\n",
       "      <th>1</th>\n",
       "      <td>2</td>\n",
       "      <td>0.032262</td>\n",
       "      <td>0.031353</td>\n",
       "      <td>0.031582</td>\n",
       "      <td>0.031119</td>\n",
       "    </tr>\n",
       "    <tr>\n",
       "      <th>2</th>\n",
       "      <td>3</td>\n",
       "      <td>0.032576</td>\n",
       "      <td>0.031510</td>\n",
       "      <td>0.031862</td>\n",
       "      <td>0.031294</td>\n",
       "    </tr>\n",
       "    <tr>\n",
       "      <th>3</th>\n",
       "      <td>4</td>\n",
       "      <td>0.032623</td>\n",
       "      <td>0.031643</td>\n",
       "      <td>0.032133</td>\n",
       "      <td>0.031470</td>\n",
       "    </tr>\n",
       "    <tr>\n",
       "      <th>4</th>\n",
       "      <td>5</td>\n",
       "      <td>0.032170</td>\n",
       "      <td>0.031164</td>\n",
       "      <td>0.031514</td>\n",
       "      <td>0.030947</td>\n",
       "    </tr>\n",
       "  </tbody>\n",
       "</table>\n",
       "</div>"
      ],
      "text/plain": [
       "   fold       glm       xgb        nn      meta\n",
       "0     1  0.032057  0.030887  0.031306  0.030697\n",
       "1     2  0.032262  0.031353  0.031582  0.031119\n",
       "2     3  0.032576  0.031510  0.031862  0.031294\n",
       "3     4  0.032623  0.031643  0.032133  0.031470\n",
       "4     5  0.032170  0.031164  0.031514  0.030947"
      ]
     },
     "execution_count": 50,
     "metadata": {},
     "output_type": "execute_result"
    }
   ],
   "source": [
    "pd.DataFrame(mse[1][1:], columns=['fold','glm', 'xgb', 'nn', 'meta'])"
   ]
  },
  {
   "cell_type": "code",
   "execution_count": null,
   "metadata": {},
   "outputs": [],
   "source": []
  }
 ],
 "metadata": {
  "kernelspec": {
   "display_name": "Python 3",
   "language": "python",
   "name": "python3"
  },
  "language_info": {
   "codemirror_mode": {
    "name": "ipython",
    "version": 3
   },
   "file_extension": ".py",
   "mimetype": "text/x-python",
   "name": "python",
   "nbconvert_exporter": "python",
   "pygments_lexer": "ipython3",
   "version": "3.6.9"
  }
 },
 "nbformat": 4,
 "nbformat_minor": 4
}
