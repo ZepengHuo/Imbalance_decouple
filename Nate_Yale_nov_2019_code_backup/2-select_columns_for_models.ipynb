{
 "cells": [
  {
   "cell_type": "markdown",
   "metadata": {},
   "source": [
    "# 2- Selects Columns for Models\n",
    "This code was written for ease of droping columns among each of a/b/c.\n",
    "\n",
    "This code also pulls train/test cohort statistics."
   ]
  },
  {
   "cell_type": "code",
   "execution_count": 1,
   "metadata": {},
   "outputs": [],
   "source": [
    "import numpy as np\n",
    "import pandas as pd"
   ]
  },
  {
   "cell_type": "code",
   "execution_count": 2,
   "metadata": {},
   "outputs": [],
   "source": [
    "generate_summary_stats = False"
   ]
  },
  {
   "cell_type": "code",
   "execution_count": 3,
   "metadata": {},
   "outputs": [],
   "source": [
    "folds = [f'/data/Projects/ACC_NCDR/NCDR/BJMDATA/ACTION/NCHData/multiple_imputed/fold_{fold}' for fold in range(1,6)]"
   ]
  },
  {
   "cell_type": "code",
   "execution_count": 4,
   "metadata": {},
   "outputs": [],
   "source": [
    "for fold in folds:\n",
    "    train_a = pd.read_csv(f'{fold}/trainA_imp.csv', index_col='IDX')\n",
    "    train_b = pd.read_csv(f'{fold}/trainB_imp.csv', index_col='IDX')\n",
    "    train_c = pd.read_csv(f'{fold}/trainC_imp.csv', index_col='IDX')\n",
    "    \n",
    "    df_list = [train_a, train_b, train_c]\n",
    "    \n",
    "    mcnamara = [\n",
    "        'Age',\n",
    "        'Weight',\n",
    "        'Sex',\n",
    "        'Diabetes',\n",
    "        'Hypertension',\n",
    "        'Dyslipidemia',\n",
    "        'Smoker',\n",
    "        'ChronicLungDisease',\n",
    "        'CurrentDialysis',\n",
    "        'PriorMI',\n",
    "        'PriorHF',\n",
    "        'PriorPCI',\n",
    "        'PriorCABG',\n",
    "        'PriorAfib',\n",
    "        'PriorCVD',\n",
    "        'PriorPAD',\n",
    "        'CAFirstMedCon',\n",
    "        'ShockFirstMedCon',\n",
    "        'HFFirstMedCon',\n",
    "        'HRFirstMedCon',\n",
    "        'SBPFirstMedCon',\n",
    "        'Stemi_ST',\n",
    "        'NoStemi_STdep',\n",
    "        'NoStemi_Twave',\n",
    "        'NoStemi_transST',\n",
    "        'TropRatio',\n",
    "        'InitCreatValue',\n",
    "        'CrCl',\n",
    "        'InitHGBValue',\n",
    "        'DCStatus'\n",
    "    ]\n",
    "    \n",
    "    train_a[mcnamara].to_csv(path_or_buf=f'{fold}/trainA_mcnamara.csv')\n",
    "    train_b[mcnamara].to_csv(path_or_buf=f'{fold}/trainB_mcnamara.csv')\n",
    "    train_c[mcnamara].to_csv(path_or_buf=f'{fold}/trainC_mcnamara.csv')\n",
    "    \n",
    "    train_a.drop(columns=['ChronicLungDisease']).to_csv(path_or_buf=f'{fold}/trainA_expanded.csv')\n",
    "    train_b.drop(columns=['ChronicLungDisease']).to_csv(path_or_buf=f'{fold}/trainB_expanded.csv')\n",
    "    train_c.drop(columns=['ChronicLungDisease']).to_csv(path_or_buf=f'{fold}/trainC_expanded.csv')"
   ]
  },
  {
   "cell_type": "code",
   "execution_count": 5,
   "metadata": {},
   "outputs": [
    {
     "name": "stdout",
     "output_type": "stream",
     "text": [
      "Done!\n"
     ]
    }
   ],
   "source": [
    "print('Done!')"
   ]
  },
  {
   "cell_type": "code",
   "execution_count": null,
   "metadata": {},
   "outputs": [],
   "source": [
    "# Note: not updated post multiple impute folds\n",
    "if generate_summary_stats:\n",
    "    ab_set = pd.concat([train_a, train_b])\n",
    "    \n",
    "    raw_vals = pd.read_csv('../NCHData/all_no_imp.csv', index_col='IDX')\n",
    "    \n",
    "    raw_vals['Women'] = raw_vals['Sex'] - 1\n",
    "    \n",
    "    raw_c = raw_vals.loc[train_c.index]\n",
    "    \n",
    "    raw_ab = raw_vals.loc[ab_set.index]\n",
    "    \n",
    "    ab_desc = raw_ab.describe().T\n",
    "    \n",
    "    c_desc  = raw_c.describe().T\n",
    "    \n",
    "    ab_desc['IQR'] = ab_desc['75%'] - ab_desc['25%']\n",
    "    c_desc['IQR'] = c_desc['75%'] - c_desc['25%']\n",
    "    \n",
    "    c_desc.to_csv(path_or_buf='../NCHData/test_statistics.csv')\n",
    "    ab_desc.to_csv(path_or_buf='../NCHData/train_statistics.csv')"
   ]
  },
  {
   "cell_type": "code",
   "execution_count": null,
   "metadata": {},
   "outputs": [],
   "source": []
  }
 ],
 "metadata": {
  "kernelspec": {
   "display_name": "Python 3",
   "language": "python",
   "name": "python3"
  },
  "language_info": {
   "codemirror_mode": {
    "name": "ipython",
    "version": 3
   },
   "file_extension": ".py",
   "mimetype": "text/x-python",
   "name": "python",
   "nbconvert_exporter": "python",
   "pygments_lexer": "ipython3",
   "version": "3.6.9"
  }
 },
 "nbformat": 4,
 "nbformat_minor": 4
}
