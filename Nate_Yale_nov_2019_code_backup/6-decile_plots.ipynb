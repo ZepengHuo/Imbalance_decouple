{
 "cells": [
  {
   "cell_type": "code",
   "execution_count": 1,
   "metadata": {},
   "outputs": [
    {
     "name": "stderr",
     "output_type": "stream",
     "text": [
      "Loading required package: magrittr\n"
     ]
    }
   ],
   "source": [
    "setwd(\"/data/Projects/ACC_NCDR/NCDR/BJMDATA/ACTION/NCHData/\")\n",
    "source(file = \"/data/Projects/ACC_NCDR/NCDR/BJMDATA/ACTION/CODE/calcDeciles.R\")\n",
    "\n",
    "library(SpecsVerification)\n",
    "#library(pROC)\n",
    "library(ggplot2)\n",
    "library(ggpubr)\n",
    "library(PRROC)"
   ]
  },
  {
   "cell_type": "code",
   "execution_count": 2,
   "metadata": {},
   "outputs": [],
   "source": [
    "folds.all <- list(1, 2, 3, 4, 5)\n",
    "modes <- list('mcnamara', 'expanded')"
   ]
  },
  {
   "cell_type": "code",
   "execution_count": 3,
   "metadata": {},
   "outputs": [
    {
     "name": "stdout",
     "output_type": "stream",
     "text": [
      "Loading data for mcnamara Model Fold 1\n"
     ]
    },
    {
     "name": "stderr",
     "output_type": "stream",
     "text": [
      "Saving 6 x 6 in image\n",
      "Saving 6 x 6 in image\n",
      "Saving 6 x 6 in image\n"
     ]
    },
    {
     "name": "stdout",
     "output_type": "stream",
     "text": [
      "Decile plots for mcnamara fold 1 plotted and saved.\n",
      "Loading data for expanded Model Fold 1\n"
     ]
    },
    {
     "name": "stderr",
     "output_type": "stream",
     "text": [
      "Saving 6 x 6 in image\n",
      "Saving 6 x 6 in image\n",
      "Saving 6 x 6 in image\n"
     ]
    },
    {
     "name": "stdout",
     "output_type": "stream",
     "text": [
      "Decile plots for expanded fold 1 plotted and saved.\n",
      "Loading data for mcnamara Model Fold 2\n"
     ]
    },
    {
     "name": "stderr",
     "output_type": "stream",
     "text": [
      "Saving 6 x 6 in image\n",
      "Saving 6 x 6 in image\n",
      "Saving 6 x 6 in image\n"
     ]
    },
    {
     "name": "stdout",
     "output_type": "stream",
     "text": [
      "Decile plots for mcnamara fold 2 plotted and saved.\n",
      "Loading data for expanded Model Fold 2\n"
     ]
    },
    {
     "name": "stderr",
     "output_type": "stream",
     "text": [
      "Saving 6 x 6 in image\n",
      "Saving 6 x 6 in image\n",
      "Saving 6 x 6 in image\n"
     ]
    },
    {
     "name": "stdout",
     "output_type": "stream",
     "text": [
      "Decile plots for expanded fold 2 plotted and saved.\n",
      "Loading data for mcnamara Model Fold 3\n"
     ]
    },
    {
     "name": "stderr",
     "output_type": "stream",
     "text": [
      "Saving 6 x 6 in image\n",
      "Saving 6 x 6 in image\n",
      "Saving 6 x 6 in image\n"
     ]
    },
    {
     "name": "stdout",
     "output_type": "stream",
     "text": [
      "Decile plots for mcnamara fold 3 plotted and saved.\n",
      "Loading data for expanded Model Fold 3\n"
     ]
    },
    {
     "name": "stderr",
     "output_type": "stream",
     "text": [
      "Saving 6 x 6 in image\n",
      "Saving 6 x 6 in image\n",
      "Saving 6 x 6 in image\n"
     ]
    },
    {
     "name": "stdout",
     "output_type": "stream",
     "text": [
      "Decile plots for expanded fold 3 plotted and saved.\n",
      "Loading data for mcnamara Model Fold 4\n"
     ]
    },
    {
     "name": "stderr",
     "output_type": "stream",
     "text": [
      "Saving 6 x 6 in image\n",
      "Saving 6 x 6 in image\n",
      "Saving 6 x 6 in image\n"
     ]
    },
    {
     "name": "stdout",
     "output_type": "stream",
     "text": [
      "Decile plots for mcnamara fold 4 plotted and saved.\n",
      "Loading data for expanded Model Fold 4\n"
     ]
    },
    {
     "name": "stderr",
     "output_type": "stream",
     "text": [
      "Saving 6 x 6 in image\n",
      "Saving 6 x 6 in image\n",
      "Saving 6 x 6 in image\n"
     ]
    },
    {
     "name": "stdout",
     "output_type": "stream",
     "text": [
      "Decile plots for expanded fold 4 plotted and saved.\n",
      "Loading data for mcnamara Model Fold 5\n"
     ]
    },
    {
     "name": "stderr",
     "output_type": "stream",
     "text": [
      "Saving 6 x 6 in image\n",
      "Saving 6 x 6 in image\n",
      "Saving 6 x 6 in image\n"
     ]
    },
    {
     "name": "stdout",
     "output_type": "stream",
     "text": [
      "Decile plots for mcnamara fold 5 plotted and saved.\n",
      "Loading data for expanded Model Fold 5\n"
     ]
    },
    {
     "name": "stderr",
     "output_type": "stream",
     "text": [
      "Saving 6 x 6 in image\n",
      "Saving 6 x 6 in image\n",
      "Saving 6 x 6 in image\n"
     ]
    },
    {
     "name": "stdout",
     "output_type": "stream",
     "text": [
      "Decile plots for expanded fold 5 plotted and saved.\n"
     ]
    }
   ],
   "source": [
    "for (fold in folds.all){\n",
    "    for (mode in modes){\n",
    "        data_dir <- paste0(\"/data/Projects/ACC_NCDR/NCDR/BJMDATA/ACTION/NCHData/multiple_imputed/fold_\", fold)\n",
    "        fig_dir  <- paste0(\"/data/Projects/ACC_NCDR/NCDR/BJMDATA/ACTION/NCHData/multiple_imputed/figs/\")\n",
    "        cat(paste('Loading data for ', mode,' Model Fold ', fold, '\\n', sep=''))\n",
    "        \n",
    "        load(file = paste0(data_dir, '/trainCpreds_fig_', mode, '.Rdata'))\n",
    "        lr_predsC.df <- read.csv(file = paste0(data_dir, '/lr_preds_trainC_', mode, '.csv'), header = TRUE)\n",
    "\n",
    "        preds.df$lr <- lr_predsC.df$lr\n",
    "        \n",
    "        lr.deciles.output <- sortDeciles(preds.df$lr, preds.df$DCStatus, \n",
    "                                          quantile(preds.df$lr, preds.df$DCStatus, probs = seq(0,1,0.1), na.rm = TRUE))[[1]]\n",
    "        glm.deciles.output <- sortDeciles(preds.df$glm, preds.df$DCStatus, \n",
    "                                          quantile(preds.df$glm, preds.df$DCStatus, probs = seq(0,1,0.1), na.rm = TRUE))[[1]]\n",
    "        xgb.deciles.output <- sortDeciles(preds.df$xgb, preds.df$DCStatus, \n",
    "                                          quantile(preds.df$xgb, preds.df$DCStatus, probs = seq(0,1,0.1), na.rm = TRUE))[[1]]\n",
    "        nn.deciles.output <- sortDeciles(preds.df$nn, preds.df$DCStatus, \n",
    "                                          quantile(preds.df$nn, preds.df$DCStatus, probs = seq(0,1,0.1), na.rm = TRUE))[[1]]\n",
    "        meta.deciles.output <- sortDeciles(preds.df$meta, preds.df$DCStatus, \n",
    "                                           quantile(preds.df$meta, preds.df$DCStatus, probs = seq(0,1,0.1), na.rm = TRUE))[[1]]\n",
    "        \n",
    "        lr.deciles <- lr.deciles.output[, c('predicted rates', 'observed rates')]\n",
    "        glm.deciles <- glm.deciles.output[, c('predicted rates', 'observed rates')]\n",
    "        xgb.deciles <- xgb.deciles.output[, c('predicted rates', 'observed rates')]\n",
    "        nn.deciles <- nn.deciles.output[, c('predicted rates', 'observed rates')]\n",
    "        meta.deciles <- meta.deciles.output[, c('predicted rates', 'observed rates')]\n",
    "        \n",
    "        colnames(lr.deciles) <- c('predicted', 'observed')\n",
    "        colnames(glm.deciles) <- c('predicted', 'observed')\n",
    "        colnames(xgb.deciles) <- c('predicted', 'observed')\n",
    "        colnames(nn.deciles) <- c('predicted', 'observed')\n",
    "        colnames(meta.deciles) <- c('predicted', 'observed')\n",
    "        \n",
    "        #decile, model, value\n",
    "        #LR QUANTILES\n",
    "        glm.df <- data.frame()\n",
    "        glm_quant <- quantile(preds.df$lr, probs = seq(0,1,0.1), na.rm = TRUE)\n",
    "        \n",
    "        for (i in 2:11) {\n",
    "            values <- c(mean(preds.df$lr[which(preds.df$lr < glm_quant[i] & preds.df$lr >= glm_quant[i-1])]) * 100, \n",
    "                      mean(preds.df$glm[which(preds.df$lr < glm_quant[i] & preds.df$lr >= glm_quant[i-1])]) * 100, \n",
    "                      mean(preds.df$DCStatus[which(preds.df$lr < glm_quant[i] & preds.df$lr >= glm_quant[i-1])]) * 100)#,\n",
    "                      #mean(preds.df$DCStatus[which(preds.df$glm < glm_quant[i] & preds.df$glm >= glm_quant[i-1])]) * 100)\n",
    "            lower.ci <- c(t.test(preds.df$lr[which(preds.df$lr < glm_quant[i] & preds.df$lr >= glm_quant[i-1])])$conf.int[1] * 100, \n",
    "                        t.test(preds.df$glm[which(preds.df$lr < glm_quant[i] & preds.df$lr >= glm_quant[i-1])])$conf.int[1] * 100)\n",
    "            upper.ci <- c(t.test(preds.df$lr[which(preds.df$lr < glm_quant[i] & preds.df$lr >= glm_quant[i-1])])$conf.int[2] * 100, \n",
    "                        t.test(preds.df$glm[which(preds.df$lr < glm_quant[i] & preds.df$lr >= glm_quant[i-1])])$conf.int[2] * 100)\n",
    "            model <- c(\"LR\", \"Lasso\", \"Observed\", \"LowerCI_LR\", \"LowerCI_GLM\", \"UpperCI_LR\", \"UpperCI_GLM\")\n",
    "            temp.df <- data.frame(decile= rep(i-1, 7), c(values, lower.ci, upper.ci), model)\n",
    "            glm.df <- rbind(glm.df, temp.df)\n",
    "        }\n",
    "        colnames(glm.df) <- c('decile', 'values', 'model')\n",
    "        glm.df$Groups = factor(glm.df$model, levels = c(\"LR\", \"Lasso\", \"Observed\",\"LowerCI_LR\", \"LowerCI_GLM\", \"UpperCI_LR\", \"UpperCI_GLM\"))\n",
    "        \n",
    "        xgb.df <- data.frame()\n",
    "        xgb_quant <- quantile(preds.df$lr, probs = seq(0,1,0.1), na.rm = TRUE)\n",
    "        for (i in 2:11) {\n",
    "          values <- c(mean(preds.df$lr[which(preds.df$lr < xgb_quant[i] & preds.df$lr >= xgb_quant[i-1])]) * 100, \n",
    "                      mean(preds.df$xgb[which(preds.df$lr < xgb_quant[i] & preds.df$lr >= xgb_quant[i-1])]) * 100,  #this used to read which(preds.df$xgb < xgb)\n",
    "                      mean(preds.df$DCStatus[which(preds.df$lr < xgb_quant[i] & preds.df$lr >= xgb_quant[i-1])]) * 100)#,\n",
    "                      #mean(preds.df$DCStatus[which(preds.df$xgb < xgb_quant[i] & preds.df$xgb >= xgb_quant[i-1])]) * 100)\n",
    "          \n",
    "          lower.ci <- c(t.test(preds.df$lr[which(preds.df$lr < xgb_quant[i] & preds.df$lr >= xgb_quant[i-1])])$conf.int[1] * 100, \n",
    "                        t.test(preds.df$xgb[which(preds.df$lr < xgb_quant[i] & preds.df$lr >= xgb_quant[i-1])])$conf.int[1] * 100)\n",
    "          upper.ci <- c(t.test(preds.df$lr[which(preds.df$lr < xgb_quant[i] & preds.df$lr >= xgb_quant[i-1])])$conf.int[2] * 100, \n",
    "                        t.test(preds.df$xgb[which(preds.df$lr < xgb_quant[i] & preds.df$lr >= xgb_quant[i-1])])$conf.int[2] * 100)\n",
    "          model <- c(\"LR\", \"XGB\", \"Observed\", \"LowerCI_LR\", \"LowerCI_XGB\", \"UpperCI_LR\", \"UpperCI_XGB\")\n",
    "          temp.df <- data.frame(decile= rep(i-1, 7), c(values, lower.ci, upper.ci), model)\n",
    "          xgb.df <- rbind(xgb.df, temp.df)\n",
    "        }\n",
    "        colnames(xgb.df) <- c('decile', 'values', 'model')\n",
    "        xgb.df$Groups = factor(xgb.df$model, levels = c(\"LR\", \"XGB\", \"Observed\", \"LowerCI_LR\", \"LowerCI_XGB\", \"UpperCI_LR\", \"UpperCI_XGB\"))\n",
    "        \n",
    "        meta.df <- data.frame()\n",
    "\n",
    "        meta_quant <- quantile(preds.df$lr, probs = seq(0,1,0.1), na.rm = TRUE)\n",
    "        \n",
    "        for (i in 2:11) {\n",
    "          values <- c(mean(preds.df$lr[which(preds.df$lr < meta_quant[i] & preds.df$lr >= meta_quant[i-1])]) * 100, \n",
    "                      mean(preds.df$meta[which(preds.df$lr < meta_quant[i] & preds.df$lr >= meta_quant[i-1])]) * 100, \n",
    "                      mean(preds.df$DCStatus[which(preds.df$lr < meta_quant[i] & preds.df$lr >= meta_quant[i-1])]) * 100)#,\n",
    "                     # mean(preds.df$DCStatus[which(preds.df$meta < meta_quant[i] & preds.df$meta >= meta_quant[i-1])]) * 100)\n",
    "          \n",
    "          lower.ci <- c(t.test(preds.df$lr[which(preds.df$lr < meta_quant[i] & preds.df$lr >= meta_quant[i-1])])$conf.int[1] * 100, \n",
    "                        t.test(preds.df$meta[which(preds.df$lr < meta_quant[i] & preds.df$lr >= meta_quant[i-1])])$conf.int[1] * 100)\n",
    "          upper.ci <- c(t.test(preds.df$lr[which(preds.df$lr < meta_quant[i] & preds.df$lr >= meta_quant[i-1])])$conf.int[2] * 100, \n",
    "                        t.test(preds.df$meta[which(preds.df$lr < meta_quant[i] & preds.df$lr >= meta_quant[i-1])])$conf.int[2] * 100)\n",
    "          model <- c(\"LR\", \"meta\", \"Observed\", \"LowerCI_LR\", \"LowerCI_meta\", \"UpperCI_LR\", \"UpperCI_meta\")\n",
    "          temp.df <- data.frame(decile= rep(i-1, 7), c(values, lower.ci, upper.ci), model)\n",
    "          meta.df <- rbind(meta.df, temp.df)\n",
    "        }\n",
    "        \n",
    "        colnames(meta.df) <- c('decile', 'values', 'model')\n",
    "        \n",
    "        meta.df$Groups = factor(meta.df$model, levels = c(\"LR\", \"meta\", \"Observed\", \"LowerCI_LR\", \"LowerCI_meta\", \"UpperCI_LR\", \"UpperCI_meta\"))\n",
    "        \n",
    "        write.table(glm.df,  row.names=FALSE, file=paste0(data_dir, '/', mode, '_vars_glm_deciles.csv'), sep=',')\n",
    "        write.table(xgb.df,  row.names=FALSE, file=paste0(data_dir, '/', mode, '_vars_xgb_deciles.csv'), sep=',')\n",
    "        write.table(meta.df, row.names=FALSE, file=paste0(data_dir, '/', mode, '_vars_meta_deciles.csv'), sep=',')\n",
    "        \n",
    "        glm.temp <- glm.df[which(glm.df$model %in% c('LR', 'Lasso', 'Observed')),]\n",
    "        glm.plot <- ggplot(glm.temp, aes(fill = Groups, y=values, x=decile, color = Groups)) +\n",
    "          geom_bar(position = \"dodge\", stat=\"identity\") +\n",
    "          scale_x_discrete(\"LR risk deciles\", limits = c(seq(1,10,1))) +\n",
    "          scale_y_discrete(\"Mortality risk (%)\", limits = c(0, 1,2,5,10,20,30))\n",
    "        file_name <- paste0(fig_dir, mode, fold, '_glm_decile_plot.tiff')\n",
    "        tiff(file_name, width = 6, height = 6, units = 'in', res = 300, compression = 'lzw')\n",
    "        glm.plot\n",
    "        ggsave(glm.plot, file=file_name)\n",
    "        dev.off()\n",
    "        \n",
    "        xgb.temp <- xgb.df[which(xgb.df$model %in% c('LR', 'XGB', 'Observed')),]\n",
    "        xgb.plot <- ggplot(xgb.temp, aes(fill = Groups, y=values, x=decile, color = Groups)) +\n",
    "          geom_bar(position = \"dodge\", stat=\"identity\") +\n",
    "          scale_x_discrete(\"LR risk deciles\", limits = c(seq(1,10,1))) +\n",
    "          scale_y_discrete(\"Mortality risk (%)\", limits = c(0, 1,2,5,10,20,30))\n",
    "        file_name <- paste0(fig_dir, mode, fold, '_xgb_decile_plot.tiff')\n",
    "        tiff(file_name, width = 6, height = 6, units = 'in', res = 300, compression = 'lzw')\n",
    "        xgb.plot\n",
    "        ggsave(xgb.plot, file=file_name)\n",
    "        dev.off()\n",
    "        \n",
    "        meta.temp <- meta.df[which(meta.df$model %in% c('LR', 'meta', 'Observed')),]\n",
    "        meta.plot <- ggplot(meta.temp, aes(fill = Groups, y=values, x=decile, color = Groups)) +\n",
    "          geom_bar(position = \"dodge\", stat=\"identity\") +\n",
    "          scale_x_discrete(\"LR risk deciles\", limits = c(seq(1,10,1))) +\n",
    "          scale_y_discrete(\"Mortality risk (%)\", limits = c(0, 1,2,5,10,20,30))\n",
    "        file_name <- paste0(fig_dir, mode, fold, '_meta_decile_plot.tiff')\n",
    "        tiff(file_name, width = 6, height = 6, units = 'in', res = 300, compression = 'lzw')\n",
    "        meta.plot\n",
    "        ggsave(meta.plot, file=file_name)\n",
    "        dev.off()\n",
    "        \n",
    "        cat('Decile plots for', mode, 'fold', fold, 'plotted and saved.\\n')\n",
    "        \n",
    "    }\n",
    "}"
   ]
  }
 ],
 "metadata": {
  "kernelspec": {
   "display_name": "R",
   "language": "R",
   "name": "ir"
  },
  "language_info": {
   "codemirror_mode": "r",
   "file_extension": ".r",
   "mimetype": "text/x-r-source",
   "name": "R",
   "pygments_lexer": "r",
   "version": "3.6.0"
  }
 },
 "nbformat": 4,
 "nbformat_minor": 4
}
